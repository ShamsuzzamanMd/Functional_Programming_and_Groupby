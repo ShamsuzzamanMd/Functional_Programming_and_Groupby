{
 "cells": [
  {
   "cell_type": "code",
   "execution_count": 13,
   "metadata": {
    "ExecuteTime": {
     "end_time": "2019-07-08T09:11:03.536250Z",
     "start_time": "2019-07-08T09:11:03.529940Z"
    }
   },
   "outputs": [],
   "source": [
    "# Imported packages\n",
    "\n",
    "import numpy as np\n",
    "from numpy.random import randn\n",
    "import pandas as pd\n",
    "\n",
    "from fractions import gcd\n",
    "\n",
    "import warnings\n",
    "warnings.filterwarnings(\"ignore\")"
   ]
  },
  {
   "cell_type": "markdown",
   "metadata": {},
   "source": [
    "# Task_1"
   ]
  },
  {
   "cell_type": "code",
   "execution_count": null,
   "metadata": {},
   "outputs": [],
   "source": []
  },
  {
   "cell_type": "markdown",
   "metadata": {},
   "source": [
    "Write functional programming code to apply a list of functions on a list of integers. Explain how it works as well and how it relates to functional programing."
   ]
  },
  {
   "cell_type": "code",
   "execution_count": 14,
   "metadata": {
    "ExecuteTime": {
     "end_time": "2019-07-08T09:11:05.814302Z",
     "start_time": "2019-07-08T09:11:05.801312Z"
    }
   },
   "outputs": [
    {
     "name": "stdout",
     "output_type": "stream",
     "text": [
      "0\n",
      "[0, 1, 0]\n",
      "1\n",
      "[1, 2, 2]\n",
      "2\n",
      "[4, 4, 4]\n",
      "3\n",
      "[9, 8, 6]\n"
     ]
    }
   ],
   "source": [
    "def multiplication (a):\n",
    "    return (a*a)\n",
    "def exponent (a):\n",
    "    return 2**a\n",
    "def addition (a):\n",
    "    return(a+a)\n",
    "\n",
    "func =[multiplication,exponent,addition]\n",
    "for item in range (4):\n",
    "    print(item)\n",
    "    \n",
    "    value= list(map(lambda a:a(item), func))\n",
    "    print(value)\n"
   ]
  },
  {
   "cell_type": "code",
   "execution_count": null,
   "metadata": {},
   "outputs": [],
   "source": []
  },
  {
   "cell_type": "markdown",
   "metadata": {},
   "source": [
    "# Task_2"
   ]
  },
  {
   "cell_type": "markdown",
   "metadata": {},
   "source": [
    "Find the greatest common divisor of a list of numbers using Reduce. Explain how the code works as well. Explain how it works as well and how it relates to functional programing."
   ]
  },
  {
   "cell_type": "markdown",
   "metadata": {},
   "source": []
  },
  {
   "cell_type": "raw",
   "metadata": {},
   "source": [
    "GCD of two numbers is Euclid’s algorithm, which is based on the observation that if r is the remainder when a is divided by b,then gcd(a, b) = gcd(b, r). As a base case, we can use gcd(a, 0) = a.\n",
    "\n",
    "In other way we an conclude, Euclid described the algorithm for gcd of two numbers a and b as:\n",
    "\n",
    "gcd(a, b) = a, if b = 0\n",
    "gcd(a, b) = gcd(b, a), if b > a\n",
    "gcd(a, b) = gcd(b, a % b), if b <= a"
   ]
  },
  {
   "cell_type": "code",
   "execution_count": 53,
   "metadata": {
    "ExecuteTime": {
     "end_time": "2019-07-08T11:31:49.167444Z",
     "start_time": "2019-07-08T11:31:49.159501Z"
    }
   },
   "outputs": [
    {
     "data": {
      "text/plain": [
       "4"
      ]
     },
     "execution_count": 53,
     "metadata": {},
     "output_type": "execute_result"
    }
   ],
   "source": [
    "from functools import reduce\n",
    "def gcd( a,b):\n",
    "    if (b==0):\n",
    "        return a\n",
    "    else:\n",
    "        return gcd(b,a%b)\n",
    "\n",
    "def gcd_is (list):\n",
    "    return reduce(gcd,list)\n",
    "\n",
    "gcd_is([4,12,44])"
   ]
  },
  {
   "cell_type": "markdown",
   "metadata": {},
   "source": [
    "# Task_3"
   ]
  },
  {
   "cell_type": "code",
   "execution_count": null,
   "metadata": {},
   "outputs": [],
   "source": []
  },
  {
   "cell_type": "markdown",
   "metadata": {},
   "source": [
    "Write a function groupby_demonstrator that takes as a list of tuples as an input (arg data) as well as boolean argument (verify_sorted). If verify_sorted is true, the list is sorted by the first key (0-th tuple element), otherwise it is not sorted.\n",
    "\n",
    "The function should print out key-value pairs by groups (as output from Python groupby). The print statements between groups should have an empty line. Print statements inside-group should not have empty lines in between (just new lines between records).\n",
    "\n",
    "Add a decorator ‘ensure_sourted_grouper’ that overrides the grouping, by making sure that the list is sorted when an argument ‘verify_sorted’ = True is passed. Otherwise, “You didn’t enforce the order” is printed to the console."
   ]
  },
  {
   "cell_type": "code",
   "execution_count": null,
   "metadata": {},
   "outputs": [],
   "source": []
  },
  {
   "cell_type": "code",
   "execution_count": 51,
   "metadata": {
    "ExecuteTime": {
     "end_time": "2019-07-08T11:24:26.645185Z",
     "start_time": "2019-07-08T11:24:26.633765Z"
    }
   },
   "outputs": [
    {
     "name": "stdout",
     "output_type": "stream",
     "text": [
      "animal\n",
      "\n",
      "[('animal', 'dog')]\n",
      "human\n",
      "\n",
      "[('human', 'shohag'), ('human', 'kedar')]\n",
      "plant\n",
      "\n",
      "[('plant', 'grass')]\n"
     ]
    },
    {
     "data": {
      "text/plain": [
       "<function __main__.groupby_demonstrator(arg, verify_sorted)>"
      ]
     },
     "execution_count": 51,
     "metadata": {},
     "output_type": "execute_result"
    }
   ],
   "source": [
    "from itertools import groupby\n",
    "\n",
    "def groupby_demonstrator(arg,verify_sorted):\n",
    "    if verify_sorted == True:\n",
    "        data= sorted(arg,key=lambda tup: tup[0])\n",
    "        for k,g in groupby(data,key=lambda tup: tup[0]):   \n",
    "            print (k,list(g), sep='\\n\\n')\n",
    "       \n",
    "    else:\n",
    "        print(arg)\n",
    "\n",
    "groupby_demonstrator([('plant', 'grass'), ('human', 'shohag'), ('human', 'kedar'),('animal', 'dog')], verify_sorted=True )\n",
    "\n",
    "(groupby_demonstrator)\n",
    "\n"
   ]
  },
  {
   "cell_type": "code",
   "execution_count": 55,
   "metadata": {
    "ExecuteTime": {
     "end_time": "2019-07-08T11:41:07.791920Z",
     "start_time": "2019-07-08T11:41:07.778364Z"
    }
   },
   "outputs": [
    {
     "name": "stdout",
     "output_type": "stream",
     "text": [
      "{'verify_sorted': True}\n",
      "plant\n",
      "\n",
      "[('plant', 'grass')]\n",
      "human\n",
      "\n",
      "[('human', 'shohag'), ('human', 'kedar')]\n",
      "animal\n",
      "\n",
      "[('animal', 'dog')]\n"
     ]
    },
    {
     "data": {
      "text/plain": [
       "<function __main__.ensure_authorized.<locals>.wrapper_calling_fun(*args, **kwargs)>"
      ]
     },
     "execution_count": 55,
     "metadata": {},
     "output_type": "execute_result"
    }
   ],
   "source": [
    "def ensure_sourted_grouper(fun):\n",
    "    def my_wrapper(*args,**kwargs):\n",
    "        print(kwargs)\n",
    "        if kwargs.get(\"verify_sorted\")==True:\n",
    "            sorted_value=sorted(args,key=lambda x:x[0])\n",
    "            fun(*args,**kwargs)\n",
    "            \n",
    "        else :\n",
    "            \n",
    "            print ('You didn’t enforce the order')\n",
    "    return my_wrapper\n",
    "\n",
    "@ensure_authorized\n",
    "def groupby_demonstrator(arg,verify_sorted):\n",
    "        for k,g in groupby(arg,key=lambda tup: tup[0]):   \n",
    "            print (k,list(g), sep='\\n\\n')\n",
    "\n",
    "groupby_demonstrator([('plant', 'grass'), ('human', 'shohag'), ('human', 'kedar'),('animal', 'dog')], verify_sorted=True )\n",
    "\n",
    "(groupby_demonstrator)\n"
   ]
  },
  {
   "cell_type": "code",
   "execution_count": null,
   "metadata": {},
   "outputs": [],
   "source": []
  },
  {
   "cell_type": "code",
   "execution_count": null,
   "metadata": {},
   "outputs": [],
   "source": []
  },
  {
   "cell_type": "markdown",
   "metadata": {},
   "source": [
    "# Task 4"
   ]
  },
  {
   "cell_type": "markdown",
   "metadata": {},
   "source": [
    "Functional programming is a programming languages which is desidgned based on mathematical function in order to handle symbolic computation.\n",
    "- It use conditional expressions and recursion to perform computation.\n",
    "- Functional programming languages don’t support flow Controls like loop statements and conditional statements\n",
    "The functional programming does not support state due to that it have advantages to be a bugs free code but as a downside, functional programming requires a large memory space. As it does not have state, we need to create new objects every time to perform actions."
   ]
  },
  {
   "cell_type": "code",
   "execution_count": null,
   "metadata": {},
   "outputs": [],
   "source": []
  }
 ],
 "metadata": {
  "kernelspec": {
   "display_name": "Python 3",
   "language": "python",
   "name": "python3"
  },
  "language_info": {
   "codemirror_mode": {
    "name": "ipython",
    "version": 3
   },
   "file_extension": ".py",
   "mimetype": "text/x-python",
   "name": "python",
   "nbconvert_exporter": "python",
   "pygments_lexer": "ipython3",
   "version": "3.5.6"
  },
  "toc": {
   "base_numbering": 1,
   "nav_menu": {},
   "number_sections": true,
   "sideBar": true,
   "skip_h1_title": false,
   "title_cell": "Table of Contents",
   "title_sidebar": "Contents",
   "toc_cell": false,
   "toc_position": {},
   "toc_section_display": true,
   "toc_window_display": false
  },
  "varInspector": {
   "cols": {
    "lenName": 16,
    "lenType": 16,
    "lenVar": 40
   },
   "kernels_config": {
    "python": {
     "delete_cmd_postfix": "",
     "delete_cmd_prefix": "del ",
     "library": "var_list.py",
     "varRefreshCmd": "print(var_dic_list())"
    },
    "r": {
     "delete_cmd_postfix": ") ",
     "delete_cmd_prefix": "rm(",
     "library": "var_list.r",
     "varRefreshCmd": "cat(var_dic_list()) "
    }
   },
   "oldHeight": 122,
   "position": {
    "height": "40px",
    "left": "1170px",
    "right": "20px",
    "top": "120px",
    "width": "250px"
   },
   "types_to_exclude": [
    "module",
    "function",
    "builtin_function_or_method",
    "instance",
    "_Feature"
   ],
   "varInspector_section_display": "none",
   "window_display": true
  }
 },
 "nbformat": 4,
 "nbformat_minor": 2
}
